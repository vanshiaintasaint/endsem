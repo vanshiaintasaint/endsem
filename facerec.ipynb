{
 "cells": [
  {
   "cell_type": "code",
   "execution_count": 5,
   "metadata": {},
   "outputs": [
    {
     "name": "stdout",
     "output_type": "stream",
     "text": [
      "Requirement already satisfied: pip in /Library/Frameworks/Python.framework/Versions/3.9/lib/python3.9/site-packages (22.0.4)\n",
      "Collecting pip\n",
      "  Using cached pip-22.3.1-py3-none-any.whl (2.1 MB)\n",
      "Installing collected packages: pip\n",
      "  Attempting uninstall: pip\n",
      "    Found existing installation: pip 22.0.4\n",
      "    Uninstalling pip-22.0.4:\n",
      "      Successfully uninstalled pip-22.0.4\n",
      "Successfully installed pip-22.3.1\n",
      "Note: you may need to restart the kernel to use updated packages.\n"
     ]
    }
   ],
   "source": [
    "pip install --upgrade pip"
   ]
  },
  {
   "cell_type": "code",
   "execution_count": 6,
   "metadata": {},
   "outputs": [
    {
     "name": "stdout",
     "output_type": "stream",
     "text": [
      "Requirement already satisfied: cmake in /Library/Frameworks/Python.framework/Versions/3.9/lib/python3.9/site-packages (3.25.0)\n",
      "Note: you may need to restart the kernel to use updated packages.\n"
     ]
    }
   ],
   "source": [
    "pip install cmake"
   ]
  },
  {
   "cell_type": "code",
   "execution_count": 8,
   "metadata": {},
   "outputs": [
    {
     "name": "stdout",
     "output_type": "stream",
     "text": [
      "\u001b[31mERROR: dlib-19.23.0-cp39-cp39-win_amd64.whl is not a supported wheel on this platform.\u001b[0m\u001b[31m\n",
      "\u001b[0mNote: you may need to restart the kernel to use updated packages.\n"
     ]
    }
   ],
   "source": [
    "pip install dlib-19.23.0-cp39-cp39-win_amd64.whl"
   ]
  },
  {
   "cell_type": "code",
   "execution_count": 9,
   "metadata": {},
   "outputs": [
    {
     "name": "stdout",
     "output_type": "stream",
     "text": [
      "Requirement already satisfied: opencv-python in /Library/Frameworks/Python.framework/Versions/3.9/lib/python3.9/site-packages (4.5.5.64)\n",
      "Requirement already satisfied: numpy>=1.17.3 in /Library/Frameworks/Python.framework/Versions/3.9/lib/python3.9/site-packages (from opencv-python) (1.22.3)\n",
      "Note: you may need to restart the kernel to use updated packages.\n"
     ]
    }
   ],
   "source": [
    "pip install opencv-python"
   ]
  },
  {
   "cell_type": "code",
   "execution_count": 10,
   "metadata": {},
   "outputs": [
    {
     "name": "stdout",
     "output_type": "stream",
     "text": [
      "Collecting face_recognition\n",
      "  Using cached face_recognition-1.3.0-py2.py3-none-any.whl (15 kB)\n",
      "Requirement already satisfied: Pillow in /Library/Frameworks/Python.framework/Versions/3.9/lib/python3.9/site-packages (from face_recognition) (9.1.0)\n",
      "Collecting dlib>=19.7\n",
      "  Using cached dlib-19.24.0.tar.gz (3.2 MB)\n",
      "  Preparing metadata (setup.py) ... \u001b[?25ldone\n",
      "\u001b[?25hRequirement already satisfied: numpy in /Library/Frameworks/Python.framework/Versions/3.9/lib/python3.9/site-packages (from face_recognition) (1.22.3)\n",
      "Requirement already satisfied: Click>=6.0 in /Library/Frameworks/Python.framework/Versions/3.9/lib/python3.9/site-packages (from face_recognition) (8.1.2)\n",
      "Collecting face-recognition-models>=0.3.0\n",
      "  Using cached face_recognition_models-0.3.0-py2.py3-none-any.whl\n",
      "Building wheels for collected packages: dlib\n",
      "  Building wheel for dlib (setup.py) ... \u001b[?25ldone\n",
      "\u001b[?25h  Created wheel for dlib: filename=dlib-19.24.0-cp39-cp39-macosx_12_0_universal2.whl size=4088338 sha256=e89f5c8164b1e9a1dd6a9a3f1de9b7514db74a9a682c54e81030d6c1673ca98d\n",
      "  Stored in directory: /Users/vanshikakarsanpatil/Library/Caches/pip/wheels/0f/c8/84/bf2febff8238f5d211807bb0017fb6b0186a44d69c02427ddd\n",
      "Successfully built dlib\n",
      "Installing collected packages: face-recognition-models, dlib, face_recognition\n",
      "Successfully installed dlib-19.24.0 face-recognition-models-0.3.0 face_recognition-1.3.0\n",
      "Note: you may need to restart the kernel to use updated packages.\n"
     ]
    }
   ],
   "source": [
    "pip install face_recognition"
   ]
  },
  {
   "cell_type": "code",
   "execution_count": 11,
   "metadata": {},
   "outputs": [],
   "source": [
    "import face_recognition"
   ]
  },
  {
   "cell_type": "code",
   "execution_count": 12,
   "metadata": {},
   "outputs": [],
   "source": [
    "import cv2\n",
    "import os\n",
    "import glob\n",
    "import numpy as np"
   ]
  },
  {
   "cell_type": "code",
   "execution_count": 14,
   "metadata": {},
   "outputs": [],
   "source": [
    "class SimpleFacerec:\n",
    "    def __init__(self):\n",
    "        self.known_face_encodings = []\n",
    "        self.known_face_names = []\n",
    "\n",
    "        # Resize frame for a faster speed\n",
    "        self.frame_resizing = 0.25\n",
    "\n",
    "    def load_encoding_images(self, images_path):\n",
    "        \"\"\"\n",
    "        Load encoding images from path\n",
    "        :param images_path:\n",
    "        :return:\n",
    "        \"\"\"\n",
    "        # Load Images\n",
    "        images_path = glob.glob(os.path.join(images_path, \"*.*\"))\n",
    "\n",
    "        print(\"{} encoding images found.\".format(len(images_path)))\n",
    "\n",
    "        # Store image encoding and names\n",
    "        for img_path in images_path:\n",
    "            img = cv2.imread(img_path)\n",
    "            rgb_img = cv2.cvtColor(img, cv2.COLOR_BGR2RGB)\n",
    "\n",
    "            # Get the filename only from the initial file path.\n",
    "            basename = os.path.basename(img_path)\n",
    "            (filename, ext) = os.path.splitext(basename)\n",
    "            # Get encoding\n",
    "            img_encoding = face_recognition.face_encodings(rgb_img)[0]\n",
    "\n",
    "            # Store file name and file encoding\n",
    "            self.known_face_encodings.append(img_encoding)\n",
    "            self.known_face_names.append(filename)\n",
    "        print(\"Encoding images loaded\")\n",
    "\n",
    "    def detect_known_faces(self, frame):\n",
    "        small_frame = cv2.resize(frame, (0, 0), fx=self.frame_resizing, fy=self.frame_resizing)\n",
    "        # Find all the faces and face encodings in the current frame of video\n",
    "        # Convert the image from BGR color (which OpenCV uses) to RGB color (which face_recognition uses)\n",
    "        rgb_small_frame = cv2.cvtColor(small_frame, cv2.COLOR_BGR2RGB)\n",
    "        face_locations = face_recognition.face_locations(rgb_small_frame)\n",
    "        face_encodings = face_recognition.face_encodings(rgb_small_frame, face_locations)\n",
    "\n",
    "        face_names = []\n",
    "        for face_encoding in face_encodings:\n",
    "            # See if the face is a match for the known face(s)\n",
    "            matches = face_recognition.compare_faces(self.known_face_encodings, face_encoding)\n",
    "            name = \"Unknown\"\n",
    "\n",
    "            # # If a match was found in known_face_encodings, just use the first one.\n",
    "            # if True in matches:\n",
    "            #     first_match_index = matches.index(True)\n",
    "            #     name = known_face_names[first_match_index]\n",
    "\n",
    "            # Or instead, use the known face with the smallest distance to the new face\n",
    "            face_distances = face_recognition.face_distance(self.known_face_encodings, face_encoding)\n",
    "            best_match_index = np.argmin(face_distances)\n",
    "            if matches[best_match_index]:\n",
    "                name = self.known_face_names[best_match_index]\n",
    "            face_names.append(name)\n",
    "\n",
    "        # Convert to numpy array to adjust coordinates with frame resizing quickly\n",
    "        face_locations = np.array(face_locations)\n",
    "        face_locations = face_locations / self.frame_resizing\n",
    "        return face_locations.astype(int), face_names"
   ]
  },
  {
   "cell_type": "code",
   "execution_count": 2,
   "metadata": {},
   "outputs": [
    {
     "name": "stdout",
     "output_type": "stream",
     "text": [
      "Result:  [True]\n"
     ]
    }
   ],
   "source": [
    "import cv2\n",
    "import face_recognition\n",
    "\n",
    "img = cv2.imread(\"Messi1.webp\")\n",
    "rgb_img = cv2.cvtColor(img, cv2.COLOR_BGR2RGB)\n",
    "img_encoding = face_recognition.face_encodings(rgb_img)[0]\n",
    "\n",
    "img2 = cv2.imread(\"images/Messi.webp\")\n",
    "rgb_img2 = cv2.cvtColor(img2, cv2.COLOR_BGR2RGB)\n",
    "img_encoding2 = face_recognition.face_encodings(rgb_img2)[0]\n",
    "\n",
    "result = face_recognition.compare_faces([img_encoding], img_encoding2)\n",
    "print(\"Result: \", result)\n",
    "\n",
    "cv2.imshow(\"Img\", img)\n",
    "cv2.imshow(\"Img 2\", img2)\n",
    "cv2.waitKey(0)"
   ]
  },
  {
   "cell_type": "code",
   "execution_count": 1,
   "metadata": {},
   "outputs": [
    {
     "name": "stdout",
     "output_type": "stream",
     "text": [
      "5 encoding images found.\n",
      "Encoding images loaded\n"
     ]
    },
    {
     "ename": "error",
     "evalue": "OpenCV(4.5.5) /Users/runner/work/opencv-python/opencv-python/opencv/modules/imgproc/src/resize.cpp:4052: error: (-215:Assertion failed) !ssize.empty() in function 'resize'\n",
     "output_type": "error",
     "traceback": [
      "\u001b[0;31m---------------------------------------------------------------------------\u001b[0m",
      "\u001b[0;31merror\u001b[0m                                     Traceback (most recent call last)",
      "\u001b[1;32m/Users/vanshikakarsanpatil/Downloads/source code/facerec.ipynb Cell 9'\u001b[0m in \u001b[0;36m<cell line: 13>\u001b[0;34m()\u001b[0m\n\u001b[1;32m     <a href='vscode-notebook-cell:/Users/vanshikakarsanpatil/Downloads/source%20code/facerec.ipynb#ch0000010?line=12'>13</a>\u001b[0m ret, frame \u001b[39m=\u001b[39m cap\u001b[39m.\u001b[39mread()\n\u001b[1;32m     <a href='vscode-notebook-cell:/Users/vanshikakarsanpatil/Downloads/source%20code/facerec.ipynb#ch0000010?line=14'>15</a>\u001b[0m \u001b[39m# Detect Faces\u001b[39;00m\n\u001b[0;32m---> <a href='vscode-notebook-cell:/Users/vanshikakarsanpatil/Downloads/source%20code/facerec.ipynb#ch0000010?line=15'>16</a>\u001b[0m face_locations, face_names \u001b[39m=\u001b[39m sfr\u001b[39m.\u001b[39;49mdetect_known_faces(frame)\n\u001b[1;32m     <a href='vscode-notebook-cell:/Users/vanshikakarsanpatil/Downloads/source%20code/facerec.ipynb#ch0000010?line=16'>17</a>\u001b[0m \u001b[39mfor\u001b[39;00m face_loc, name \u001b[39min\u001b[39;00m \u001b[39mzip\u001b[39m(face_locations, face_names):\n\u001b[1;32m     <a href='vscode-notebook-cell:/Users/vanshikakarsanpatil/Downloads/source%20code/facerec.ipynb#ch0000010?line=17'>18</a>\u001b[0m     y1, x2, y2, x1 \u001b[39m=\u001b[39m face_loc[\u001b[39m0\u001b[39m], face_loc[\u001b[39m1\u001b[39m], face_loc[\u001b[39m2\u001b[39m], face_loc[\u001b[39m3\u001b[39m]\n",
      "File \u001b[0;32m~/Downloads/source code/simple_facerec.py:43\u001b[0m, in \u001b[0;36mSimpleFacerec.detect_known_faces\u001b[0;34m(self, frame)\u001b[0m\n\u001b[1;32m     42\u001b[0m \u001b[39mdef\u001b[39;00m \u001b[39mdetect_known_faces\u001b[39m(\u001b[39mself\u001b[39m, frame):\n\u001b[0;32m---> 43\u001b[0m     small_frame \u001b[39m=\u001b[39m cv2\u001b[39m.\u001b[39;49mresize(frame, (\u001b[39m0\u001b[39;49m, \u001b[39m0\u001b[39;49m), fx\u001b[39m=\u001b[39;49m\u001b[39mself\u001b[39;49m\u001b[39m.\u001b[39;49mframe_resizing, fy\u001b[39m=\u001b[39;49m\u001b[39mself\u001b[39;49m\u001b[39m.\u001b[39;49mframe_resizing)\n\u001b[1;32m     44\u001b[0m     \u001b[39m# Find all the faces and face encodings in the current frame of video\u001b[39;00m\n\u001b[1;32m     45\u001b[0m     \u001b[39m# Convert the image from BGR color (which OpenCV uses) to RGB color (which face_recognition uses)\u001b[39;00m\n\u001b[1;32m     46\u001b[0m     rgb_small_frame \u001b[39m=\u001b[39m cv2\u001b[39m.\u001b[39mcvtColor(small_frame, cv2\u001b[39m.\u001b[39mCOLOR_BGR2RGB)\n",
      "\u001b[0;31merror\u001b[0m: OpenCV(4.5.5) /Users/runner/work/opencv-python/opencv-python/opencv/modules/imgproc/src/resize.cpp:4052: error: (-215:Assertion failed) !ssize.empty() in function 'resize'\n"
     ]
    }
   ],
   "source": [
    "import cv2\n",
    "from simple_facerec import SimpleFacerec\n",
    "\n",
    "# Encode faces from a folder\n",
    "sfr = SimpleFacerec()\n",
    "sfr.load_encoding_images(\"images/\")\n",
    "\n",
    "# Load Camera\n",
    "cap = cv2.VideoCapture()\n",
    "\n",
    "\n",
    "while True:\n",
    "    ret, frame = cap.read()\n",
    "\n",
    "    # Detect Faces\n",
    "    face_locations, face_names = sfr.detect_known_faces(frame)\n",
    "    for face_loc, name in zip(face_locations, face_names):\n",
    "        y1, x2, y2, x1 = face_loc[0], face_loc[1], face_loc[2], face_loc[3]\n",
    "\n",
    "        cv2.putText(frame, name,(x1, y1 - 10), cv2.FONT_HERSHEY_DUPLEX, 1, (0, 0, 200), 2)\n",
    "        cv2.rectangle(frame, (x1, y1), (x2, y2), (0, 0, 200), 4)\n",
    "\n",
    "    cv2.imshow(\"Frame\", frame)\n",
    "\n",
    "    key = cv2.waitKey()\n",
    "    if key == 27:\n",
    "        break\n",
    "\n",
    "cap.release()\n",
    "cv2.destroyAllWindows()"
   ]
  }
 ],
 "metadata": {
  "kernelspec": {
   "display_name": "Python 3.9.10 64-bit",
   "language": "python",
   "name": "python3"
  },
  "language_info": {
   "codemirror_mode": {
    "name": "ipython",
    "version": 3
   },
   "file_extension": ".py",
   "mimetype": "text/x-python",
   "name": "python",
   "nbconvert_exporter": "python",
   "pygments_lexer": "ipython3",
   "version": "3.9.10"
  },
  "orig_nbformat": 4,
  "vscode": {
   "interpreter": {
    "hash": "aee8b7b246df8f9039afb4144a1f6fd8d2ca17a180786b69acc140d282b71a49"
   }
  }
 },
 "nbformat": 4,
 "nbformat_minor": 2
}
